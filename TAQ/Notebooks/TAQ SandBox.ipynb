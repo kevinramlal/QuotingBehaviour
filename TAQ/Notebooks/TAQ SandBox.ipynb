{
 "cells": [
  {
   "cell_type": "markdown",
   "metadata": {},
   "source": [
    "### TAQ Sandbox\n",
    "\n",
    "Exploring using objects to simplify how we work with data. "
   ]
  },
  {
   "cell_type": "code",
   "execution_count": 1,
   "metadata": {},
   "outputs": [],
   "source": [
    "import sys\n",
    "sys.path.insert(0, \"../Helper_Input\")\n",
    "\n",
    "from iex_helper import * #imports stock_data class from iex_helper.py\n",
    "\n"
   ]
  },
  {
   "cell_type": "code",
   "execution_count": 4,
   "metadata": {},
   "outputs": [],
   "source": [
    "#stock_data class requires two inputs; quotes & trades\n",
    "\n",
    "quotes = '../AAPL.1.5.18.csv'\n",
    "trades = '../Trades1.5.18.csv'\n",
    "\n",
    "AAPL_Jan_5 = stock_data(quotes,trades) #initiate class"
   ]
  },
  {
   "cell_type": "code",
   "execution_count": 5,
   "metadata": {},
   "outputs": [
    {
     "data": {
      "text/html": [
       "<div>\n",
       "<style scoped>\n",
       "    .dataframe tbody tr th:only-of-type {\n",
       "        vertical-align: middle;\n",
       "    }\n",
       "\n",
       "    .dataframe tbody tr th {\n",
       "        vertical-align: top;\n",
       "    }\n",
       "\n",
       "    .dataframe thead th {\n",
       "        text-align: right;\n",
       "    }\n",
       "</style>\n",
       "<table border=\"1\" class=\"dataframe\">\n",
       "  <thead>\n",
       "    <tr style=\"text-align: right;\">\n",
       "      <th></th>\n",
       "      <th>DateTime</th>\n",
       "      <th>Time</th>\n",
       "      <th>EX</th>\n",
       "      <th>SYM_ROOT</th>\n",
       "      <th>BID</th>\n",
       "      <th>ASK</th>\n",
       "      <th>NATBBO_IND</th>\n",
       "    </tr>\n",
       "  </thead>\n",
       "  <tbody>\n",
       "    <tr>\n",
       "      <th>0</th>\n",
       "      <td>2018-01-04 09:30:00.002440</td>\n",
       "      <td>09:30:00.002440</td>\n",
       "      <td>V</td>\n",
       "      <td>AAPL</td>\n",
       "      <td>172.24</td>\n",
       "      <td>173.28</td>\n",
       "      <td>0</td>\n",
       "    </tr>\n",
       "    <tr>\n",
       "      <th>1</th>\n",
       "      <td>2018-01-04 09:30:00.007893</td>\n",
       "      <td>09:30:00.007893</td>\n",
       "      <td>Z</td>\n",
       "      <td>AAPL</td>\n",
       "      <td>172.25</td>\n",
       "      <td>173.17</td>\n",
       "      <td>0</td>\n",
       "    </tr>\n",
       "    <tr>\n",
       "      <th>2</th>\n",
       "      <td>2018-01-04 09:30:00.008077</td>\n",
       "      <td>09:30:00.008077</td>\n",
       "      <td>Z</td>\n",
       "      <td>AAPL</td>\n",
       "      <td>172.25</td>\n",
       "      <td>173.17</td>\n",
       "      <td>0</td>\n",
       "    </tr>\n",
       "    <tr>\n",
       "      <th>3</th>\n",
       "      <td>2018-01-04 09:30:00.114854</td>\n",
       "      <td>09:30:00.114854</td>\n",
       "      <td>P</td>\n",
       "      <td>AAPL</td>\n",
       "      <td>172.54</td>\n",
       "      <td>172.89</td>\n",
       "      <td>2</td>\n",
       "    </tr>\n",
       "    <tr>\n",
       "      <th>4</th>\n",
       "      <td>2018-01-04 09:30:00.162143</td>\n",
       "      <td>09:30:00.162143</td>\n",
       "      <td>V</td>\n",
       "      <td>AAPL</td>\n",
       "      <td>169.33</td>\n",
       "      <td>173.28</td>\n",
       "      <td>0</td>\n",
       "    </tr>\n",
       "  </tbody>\n",
       "</table>\n",
       "</div>"
      ],
      "text/plain": [
       "                    DateTime             Time EX SYM_ROOT     BID     ASK  \\\n",
       "0 2018-01-04 09:30:00.002440  09:30:00.002440  V     AAPL  172.24  173.28   \n",
       "1 2018-01-04 09:30:00.007893  09:30:00.007893  Z     AAPL  172.25  173.17   \n",
       "2 2018-01-04 09:30:00.008077  09:30:00.008077  Z     AAPL  172.25  173.17   \n",
       "3 2018-01-04 09:30:00.114854  09:30:00.114854  P     AAPL  172.54  172.89   \n",
       "4 2018-01-04 09:30:00.162143  09:30:00.162143  V     AAPL  169.33  173.28   \n",
       "\n",
       "   NATBBO_IND  \n",
       "0           0  \n",
       "1           0  \n",
       "2           0  \n",
       "3           2  \n",
       "4           0  "
      ]
     },
     "execution_count": 5,
     "metadata": {},
     "output_type": "execute_result"
    }
   ],
   "source": [
    "quotes = AAPL_Jan_5.quotes_df\n",
    "quotes.head() #already completed formatting "
   ]
  },
  {
   "cell_type": "markdown",
   "metadata": {},
   "source": []
  },
  {
   "cell_type": "code",
   "execution_count": null,
   "metadata": {},
   "outputs": [],
   "source": []
  }
 ],
 "metadata": {
  "kernelspec": {
   "display_name": "Python 3",
   "language": "python",
   "name": "python3"
  },
  "language_info": {
   "codemirror_mode": {
    "name": "ipython",
    "version": 3
   },
   "file_extension": ".py",
   "mimetype": "text/x-python",
   "name": "python",
   "nbconvert_exporter": "python",
   "pygments_lexer": "ipython3",
   "version": "3.7.1"
  }
 },
 "nbformat": 4,
 "nbformat_minor": 2
}
